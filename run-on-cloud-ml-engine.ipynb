{
 "cells": [
  {
   "cell_type": "markdown",
   "metadata": {},
   "source": [
    "## Covert notebook to raw python\n",
    "To run on ML-Engine, we strip all cells tagged \"display\" to remove the dependency on matplotlib.\n",
    "The remote server/cluster does not have a display anyway, just logs.\n",
    "(To view/edit tags on notebook cells: View>Cell Toolbar>Tags)"
   ]
  },
  {
   "cell_type": "code",
   "execution_count": null,
   "metadata": {},
   "outputs": [],
   "source": [
    "# Convert notebook to raw python format and remove all cells tagged \"display\"\n",
    "NOTEBOOK='00_RNN_predictions_estimator_solution.ipynb'\n",
    "jupyter nbconvert tutorial/${NOTEBOOK} \\\n",
    "    --to python --TagRemovePreprocessor.remove_cell_tags={\\\"display\\\"} \\\n",
    "    --output task.py"
   ]
  },
  {
   "cell_type": "markdown",
   "metadata": {},
   "source": [
    "## To run on ML-Engine\n",
    "First you will have to:\n",
    "1. Create a Google Cloud Platform project\n",
    "1. Enable billing\n",
    "1. Create a Google Cloud Storage bucket (put in in region us-central1)\n",
    "1. Enable the necessary APIs and request the necessary quotas\n",
    "\n",
    "And fill in the info in the variables below.\n",
    "You can try running on a GPU by using --scale-tier=BASIC_GPU (but do not expect a speedup on this tiny model...)"
   ]
  },
  {
   "cell_type": "code",
   "execution_count": null,
   "metadata": {},
   "outputs": [],
   "source": [
    "BUCKET='ml1-demo-martin'\n",
    "PROJECT='cloudml-demo-martin'\n",
    "REGION='us-central1'\n",
    "JOBNAME=sines_$(date -u +%y%m%d_%H%M%S)\n",
    "OUTDIR=\"gs://${BUCKET}/sinejobs/${JOBNAME}\"\n",
    "gcloud ml-engine jobs submit training $JOBNAME \\\n",
    " --region=$REGION \\\n",
    " --module-name=tutorial.task \\\n",
    " --package-path=tutorial \\\n",
    " --job-dir=$OUTDIR \\\n",
    " --scale-tier=BASIC \\\n",
    " --runtime-version=1.4"
   ]
  },
  {
   "cell_type": "markdown",
   "metadata": {},
   "source": [
    "## To test-run locally as if the code was running on ML-Engine\n",
    "Warning: this will use the \"python\" command to run (usually mapped to python 2 on mac, same as ML-Engine)"
   ]
  },
  {
   "cell_type": "code",
   "execution_count": null,
   "metadata": {},
   "outputs": [],
   "source": [
    "gcloud ml-engine local train \\\n",
    " --module-name=tutorial.task \\\n",
    " --package-path=tutorial \\\n",
    " --job-dir=\"outputdir\""
   ]
  }
 ],
 "metadata": {
  "kernelspec": {
   "display_name": "Bash",
   "language": "bash",
   "name": "bash"
  },
  "language_info": {
   "codemirror_mode": "shell",
   "file_extension": ".sh",
   "mimetype": "text/x-sh",
   "name": "bash"
  }
 },
 "nbformat": 4,
 "nbformat_minor": 2
}
