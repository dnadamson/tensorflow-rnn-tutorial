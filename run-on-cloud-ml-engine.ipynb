{
 "cells": [
  {
   "cell_type": "markdown",
   "metadata": {},
   "source": [
    "## Covert notebook to raw python\n",
    "To run on ML-Engine, we strip all cells tagged \"display\" to remove the dependency on matplotlib.\n",
    "The remote server/cluster does not have a display anyway, just logs.\n",
    "(To view/edit tags on notebook cells: View>Cell Toolbar>Tags)"
   ]
  },
  {
   "cell_type": "code",
   "execution_count": 44,
   "metadata": {},
   "outputs": [
    {
     "name": "stdout",
     "output_type": "stream",
     "text": [
      "[NbConvertApp] Converting notebook tutorial/01_RNN_generator_temperatures_solution.ipynb to python\n",
      "[NbConvertApp] Writing 13240 bytes to tutorial/task.py\n"
     ]
    }
   ],
   "source": [
    "# Convert notebook to raw python format and remove all cells tagged \"display\"\n",
    "NOTEBOOK='01_RNN_generator_temperatures_solution.ipynb'\n",
    "jupyter nbconvert tutorial/${NOTEBOOK} \\\n",
    "    --to python --TagRemovePreprocessor.remove_cell_tags={\\\"display\\\"} \\\n",
    "    --output task.py"
   ]
  },
  {
   "cell_type": "markdown",
   "metadata": {},
   "source": [
    "## To run on ML-Engine\n",
    "First you will have to:\n",
    "1. Create a Google Cloud Platform project\n",
    "1. Enable billing\n",
    "1. Create a Google Cloud Storage bucket (put in in region us-central1)\n",
    "1. Enable the necessary APIs and request the necessary quotas\n",
    "\n",
    "And fill in the info in the variables below.\n",
    "You can try running on a GPU by using --scale-tier=BASIC_GPU or a CPU using --scale-tier=BASIC"
   ]
  },
  {
   "cell_type": "code",
   "execution_count": 45,
   "metadata": {},
   "outputs": [
    {
     "name": "stdout",
     "output_type": "stream",
     "text": [
      "Job [sines_180405_190630] submitted successfully.\n",
      "Your job is still active. You may view the status of your job with the command\n",
      "\n",
      "  $ gcloud ml-engine jobs describe sines_180405_190630\n",
      "\n",
      "or continue streaming the logs with the command\n",
      "\n",
      "  $ gcloud ml-engine jobs stream-logs sines_180405_190630\n",
      "jobId: sines_180405_190630\n",
      "state: QUEUED\n"
     ]
    }
   ],
   "source": [
    "BUCKET='ml1-demo-martin'\n",
    "PROJECT='cloudml-demo-martin'\n",
    "\n",
    "REGION='us-central1'\n",
    "JOBNAME=sines_$(date -u +%y%m%d_%H%M%S)\n",
    "OUTDIR=\"gs://${BUCKET}/sinejobs/${JOBNAME}\"\n",
    "gcloud ml-engine jobs submit training $JOBNAME \\\n",
    " --region=$REGION \\\n",
    " --module-name=tutorial.task \\\n",
    " --package-path=tutorial \\\n",
    " --job-dir=$OUTDIR \\\n",
    " --scale-tier=BASIC_GPU \\\n",
    " --runtime-version=1.6 \\\n",
    " -- \\\n",
    " --data-dir=\"gs://good-temperatures-public\""
   ]
  },
  {
   "cell_type": "markdown",
   "metadata": {},
   "source": [
    "## To test-run locally as if the code was running on ML-Engine\n",
    "Warning: this will use the \"python\" command to run (usually mapped to python 2 on mac, same as ML-Engine)"
   ]
  },
  {
   "cell_type": "code",
   "execution_count": 12,
   "metadata": {},
   "outputs": [
    {
     "name": "stdout",
     "output_type": "stream",
     "text": [
      "dyld: warning, LC_RPATH $ORIGIN/../../_solib_darwin_x86_64/_U_S_Stensorflow_Spython_C_Upywrap_Utensorflow_Uinternal.so___Utensorflow in /Users/mgorner/Library/Python/2.7/lib/python/site-packages/tensorflow/python/_pywrap_tensorflow_internal.so being ignored in restricted program because it is a relative path\n",
      "Tensorflow version: 1.4.1\n",
      "Reading data from \"gs://good-temperatures-public\".\n",
      "Wrinting checkpoints to \"outputdir\".\n",
      "Loading 8 files........\n",
      "Pattern \"gs://good-temperatures-public/*.csv\" matches 1666 files\n",
      "Pattern \"gs://good-temperatures-public/USC000*2.csv\" matches 8 files\n",
      "Evaluation files: 8\n",
      "Training files: 1658\n",
      "Initial shape of the evaluation dataset: (8, 18262, 3)\n",
      "8 files, 18262 data points per file, 3 values per data point (Tmin, Tmax, is_interpolated) \n",
      "Loading 8 files........\n",
      "2018-04-03 23:21:30.801474: I tensorflow/core/platform/cpu_feature_guard.cc:137] Your CPU supports instructions that this TensorFlow binary was not compiled to use: SSE4.2 AVX AVX2 FMA\n"
     ]
    }
   ],
   "source": [
    "gcloud ml-engine local train \\\n",
    " --module-name=tutorial.task \\\n",
    " --package-path=tutorial \\\n",
    " --job-dir=\"checkpoints\" \\\n",
    " -- \\\n",
    " --data-dir=\"gs://good-temperatures-public\""
   ]
  },
  {
   "cell_type": "code",
   "execution_count": null,
   "metadata": {},
   "outputs": [],
   "source": []
  }
 ],
 "metadata": {
  "kernelspec": {
   "display_name": "Bash",
   "language": "bash",
   "name": "bash"
  },
  "language_info": {
   "codemirror_mode": "shell",
   "file_extension": ".sh",
   "mimetype": "text/x-sh",
   "name": "bash"
  }
 },
 "nbformat": 4,
 "nbformat_minor": 2
}
